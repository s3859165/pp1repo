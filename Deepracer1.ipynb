{
 "cells": [
  {
   "cell_type": "code",
   "execution_count": 1,
   "id": "358b41ce",
   "metadata": {},
   "outputs": [
    {
     "name": "stdout",
     "output_type": "stream",
     "text": [
      "   episode     steps         X           Y        yaw     steer  \\\n",
      "0      1.0  0.615883  0.462180  131.575518 -10.744218  0.500000   \n",
      "0      2.0  0.616180  0.461845  131.559408 -11.400974  0.500000   \n",
      "0      3.0  0.612144  0.468768  131.160002  -7.921960  0.511700   \n",
      "0      4.0  0.601042  0.485564  130.465464   6.426914  0.653304   \n",
      "0      5.0  0.582740  0.506723  130.491095  14.241500  0.580985   \n",
      "\n",
      "              throttle                action  reward   done  \\\n",
      "0  [-10.74421763420105                  0.5]     0.0  False   \n",
      "0  [-11.40097439289093                  0.5]     1.0  False   \n",
      "0  [-7.921959757804871   0.5117003172636032]     1.0  False   \n",
      "0    [6.42691433429718   0.6533036530017853]     1.0  False   \n",
      "0  [14.241499900817871   0.5809853225946426]     1.0  False   \n",
      "\n",
      "   all_wheels_on_track  progress  closest_waypoint  track_len  tstamp  \\\n",
      "0                 True  0.421249                 0  33.275265   8.418   \n",
      "0                 True  0.419901                 0  33.275265   8.486   \n",
      "0                 True  0.443514                 0  33.275265   8.552   \n",
      "0                 True  0.503416                 1  33.275265   8.618   \n",
      "0                 True  0.587483                 1  33.275265   8.688   \n",
      "\n",
      "  episode_status  pause_duration  \n",
      "0        prepare             0.0  \n",
      "0    in_progress             0.0  \n",
      "0    in_progress             0.0  \n",
      "0    in_progress             0.0  \n",
      "0    in_progress             0.0  \n",
      "   episode  steps         X         Y       yaw     steer  throttle  \\\n",
      "0        0    1.0  3.199874  0.683106  0.181668 -9.182072  1.655809   \n",
      "1        0    2.0  3.199733  0.683103  0.183266 -9.184067  1.655855   \n",
      "2        0    3.0  3.209171  0.684217  0.491423 -9.117529  1.655898   \n",
      "3        0    4.0  3.233922  0.682212 -0.111314 -9.225452  1.654546   \n",
      "4        0    5.0  3.273857  0.675434 -1.732514 -9.335827  1.638176   \n",
      "\n",
      "                      action  reward   done  all_wheels_on_track  progress  \\\n",
      "0  [-9.18207169  1.65580857]     0.0  False                 True  0.791351   \n",
      "1  [-9.18406677  1.6558547 ]     1.0  False                 True  0.790551   \n",
      "2  [-9.11752892  1.65589833]     1.0  False                 True  0.843864   \n",
      "3  [-9.22545242  1.65454638]     1.0  False                 True  0.983606   \n",
      "4  [-9.33582687  1.63817585]     1.0  False                 True  1.209047   \n",
      "\n",
      "   closest_waypoint  track_len  tstamp episode_status  pause_duration  \n",
      "0                 1  17.709159  11.232        prepare             0.0  \n",
      "1                 1  17.709159  11.297    in_progress             0.0  \n",
      "2                 1  17.709159  11.367    in_progress             0.0  \n",
      "3                 1  17.709159  11.430    in_progress             0.0  \n",
      "4                 1  17.709159  11.501    in_progress             0.0  \n"
     ]
    }
   ],
   "source": [
    "import pandas as pd\n",
    "import numpy as np\n",
    "import math\n",
    "import matplotlib.pyplot as plt\n",
    "\n",
    "# Read the CSV file into a Pandas DataFrame\n",
    "df1 = pd.read_csv('1-iteration.csv')\n",
    "df2 = pd.read_csv('2-iteration.csv')\n",
    "df3 = pd.read_csv('3-iteration.csv')\n",
    "df4 = pd.read_csv('4-iteration.csv')\n",
    "df5 = pd.read_csv('5-iteration.csv')\n",
    "\n",
    "# Print the first 5 rows of the DataFrame\n",
    "print(df1.head())\n",
    "print(df2.head())"
   ]
  },
  {
   "cell_type": "code",
   "execution_count": 2,
   "id": "c43e9360",
   "metadata": {},
   "outputs": [
    {
     "name": "stdout",
     "output_type": "stream",
     "text": [
      "141.758\n",
      "64.298\n",
      "248.935\n",
      "147.271\n",
      "157.813\n"
     ]
    },
    {
     "data": {
      "image/png": "[encoded data removed]",
      "text/plain": [
       "<Figure size 432x288 with 1 Axes>"
      ]
     },
     "metadata": {
      "needs_background": "light"
     },
     "output_type": "display_data"
    }
   ],
   "source": [
    "last_row1 = df1.iloc[-1]\n",
    "tstamp1 = df1.iloc[-1]['tstamp']\n",
    "last_row2 = df2.iloc[-1]\n",
    "tstamp2 = df2.iloc[-1]['tstamp']\n",
    "last_row3 = df3.iloc[-1]\n",
    "tstamp3 = df3.iloc[-1]['tstamp']\n",
    "last_row4 = df4.iloc[-1]\n",
    "tstamp4 = df4.iloc[-1]['tstamp']\n",
    "last_row5 = df5.iloc[-1]\n",
    "tstamp5 = df5.iloc[-1]['tstamp']\n",
    "\n",
    "print(tstamp1)\n",
    "print(tstamp2)\n",
    "print(tstamp3)\n",
    "print(tstamp4)\n",
    "print(tstamp5)\n",
    "\n",
    "tstamps = [tstamp1, tstamp2, tstamp3, tstamp4, tstamp5]\n",
    "\n",
    "data = pd.DataFrame({'Iteration Number': [1, 2, 3, 4, 5], 'Time taken': tstamps})\n",
    "\n",
    "data.plot(x='Iteration Number', y='Time taken', kind='scatter')\n",
    "\n",
    "# add plot title and axis labels\n",
    "plt.title('3 lap completion vs Iteration Number')\n",
    "plt.xlabel('Iteration Number')\n",
    "plt.ylabel('3 lap time taken')\n",
    "\n",
    "# show the plot\n",
    "plt.show()"
   ]
  },
  {
   "cell_type": "code",
   "execution_count": 3,
   "id": "0cb2c0a6",
   "metadata": {},
   "outputs": [
    {
     "name": "stdout",
     "output_type": "stream",
     "text": [
      "7.967999999999996\n",
      "15.95600000000001\n",
      "143.85300000000007\n",
      "57.86099999999998\n",
      "65.93700000000004\n"
     ]
    },
    {
     "data": {
      "image/png": "[encoded data removed]",
      "text/plain": [
       "<Figure size 432x288 with 1 Axes>"
      ]
     },
     "metadata": {
      "needs_background": "light"
     },
     "output_type": "display_data"
    }
   ],
   "source": [
    "when_off_track1 = df1.loc[df1['episode_status'] == 'off_track']\n",
    "when_off_track2 = df2.loc[df2['episode_status'] == 'off_track']\n",
    "when_off_track3 = df3.loc[df3['episode_status'] == 'off_track']\n",
    "when_off_track4 = df4.loc[df4['episode_status'] == 'off_track']\n",
    "when_off_track5 = df5.loc[df5['episode_status'] == 'off_track']\n",
    "\n",
    "total_time_off_track1 = when_off_track1['pause_duration'].sum()\n",
    "total_time_off_track2 = when_off_track2['pause_duration'].sum()\n",
    "total_time_off_track3 = when_off_track3['pause_duration'].sum()\n",
    "total_time_off_track4 = when_off_track4['pause_duration'].sum()\n",
    "total_time_off_track5 = when_off_track5['pause_duration'].sum()\n",
    "\n",
    "print(total_time_off_track1)\n",
    "print(total_time_off_track2)\n",
    "print(total_time_off_track3)\n",
    "print(total_time_off_track4)\n",
    "print(total_time_off_track5)\n",
    "\n",
    "time_off_track = [total_time_off_track1, total_time_off_track2, total_time_off_track3, total_time_off_track4, total_time_off_track5]\n",
    "\n",
    "data = pd.DataFrame({'Iteration Number': [1, 2, 3, 4, 5], 'Time off track': time_off_track})\n",
    "\n",
    "data.plot(x='Iteration Number', y='Time off track', kind='scatter')\n",
    "\n",
    "# add plot title and axis labels\n",
    "plt.title('Time spent off track vs Iteration Number')\n",
    "plt.xlabel('Iteration Number')\n",
    "plt.ylabel('Time spent off track')\n",
    "\n",
    "# show the plot\n",
    "plt.show()"
   ]
  },
  {
   "cell_type": "code",
   "execution_count": 4,
   "id": "33210b13",
   "metadata": {},
   "outputs": [
    {
     "name": "stdout",
     "output_type": "stream",
     "text": [
      "133.79000000000002\n",
      "48.34199999999999\n",
      "105.08199999999994\n",
      "89.41\n",
      "91.87599999999995\n"
     ]
    },
    {
     "data": {
      "image/png": "[encoded data removed]",
      "text/plain": [
       "<Figure size 432x288 with 1 Axes>"
      ]
     },
     "metadata": {
      "needs_background": "light"
     },
     "output_type": "display_data"
    }
   ],
   "source": [
    "on_track_minus_off_track1 = tstamp1 - total_time_off_track1\n",
    "on_track_minus_off_track2 = tstamp2 - total_time_off_track2\n",
    "on_track_minus_off_track3 = tstamp3 - total_time_off_track3\n",
    "on_track_minus_off_track4 = tstamp4 - total_time_off_track4\n",
    "on_track_minus_off_track5 = tstamp5 - total_time_off_track5\n",
    "\n",
    "\n",
    "print(on_track_minus_off_track1)\n",
    "print(on_track_minus_off_track2)\n",
    "print(on_track_minus_off_track3)\n",
    "print(on_track_minus_off_track4)\n",
    "print(on_track_minus_off_track5)\n",
    "\n",
    "on_track_minus_off_track = [on_track_minus_off_track1, on_track_minus_off_track2, on_track_minus_off_track3, on_track_minus_off_track4, on_track_minus_off_track5]\n",
    "\n",
    "data = pd.DataFrame({'Iteration Number': [1, 2, 3, 4, 5], 'on_track_minus_off_track': on_track_minus_off_track})\n",
    "\n",
    "data.plot(x='Iteration Number', y='on_track_minus_off_track', kind='scatter')\n",
    "\n",
    "# add plot title and axis labels\n",
    "plt.title('Time spent on track vs Iteration Number')\n",
    "plt.xlabel('Iteration Number')\n",
    "plt.ylabel('Time spent on track')\n",
    "\n",
    "# show the plot\n",
    "plt.show()\n"
   ]
  },
  {
   "cell_type": "code",
   "execution_count": 5,
   "id": "2cead090",
   "metadata": {},
   "outputs": [
    {
     "ename": "NameError",
     "evalue": "name 'df' is not defined",
     "output_type": "error",
     "traceback": [
      "\u001b[1;31m---------------------------------------------------------------------------\u001b[0m",
      "\u001b[1;31mNameError\u001b[0m                                 Traceback (most recent call last)",
      "\u001b[1;32m<ipython-input-5-9151a2da222c>\u001b[0m in \u001b[0;36m<module>\u001b[1;34m\u001b[0m\n\u001b[1;32m----> 1\u001b[1;33m \u001b[0mplt\u001b[0m\u001b[1;33m.\u001b[0m\u001b[0mscatter\u001b[0m\u001b[1;33m(\u001b[0m\u001b[0mdf\u001b[0m\u001b[1;33m[\u001b[0m\u001b[1;34m'iteration'\u001b[0m\u001b[1;33m]\u001b[0m\u001b[1;33m,\u001b[0m \u001b[0mdf\u001b[0m\u001b[1;33m[\u001b[0m\u001b[1;34m'progress'\u001b[0m\u001b[1;33m]\u001b[0m\u001b[1;33m)\u001b[0m\u001b[1;33m\u001b[0m\u001b[1;33m\u001b[0m\u001b[0m\n\u001b[0m\u001b[0;32m      2\u001b[0m \u001b[0mplt\u001b[0m\u001b[1;33m.\u001b[0m\u001b[0mtitle\u001b[0m\u001b[1;33m(\u001b[0m\u001b[1;34m'Progress of Iterations'\u001b[0m\u001b[1;33m)\u001b[0m\u001b[1;33m\u001b[0m\u001b[1;33m\u001b[0m\u001b[0m\n\u001b[0;32m      3\u001b[0m \u001b[0mplt\u001b[0m\u001b[1;33m.\u001b[0m\u001b[0mxlabel\u001b[0m\u001b[1;33m(\u001b[0m\u001b[1;34m'Iteration'\u001b[0m\u001b[1;33m)\u001b[0m\u001b[1;33m\u001b[0m\u001b[1;33m\u001b[0m\u001b[0m\n\u001b[0;32m      4\u001b[0m \u001b[0mplt\u001b[0m\u001b[1;33m.\u001b[0m\u001b[0mylabel\u001b[0m\u001b[1;33m(\u001b[0m\u001b[1;34m'Progress'\u001b[0m\u001b[1;33m)\u001b[0m\u001b[1;33m\u001b[0m\u001b[1;33m\u001b[0m\u001b[0m\n\u001b[0;32m      5\u001b[0m \u001b[0mplt\u001b[0m\u001b[1;33m.\u001b[0m\u001b[0mshow\u001b[0m\u001b[1;33m(\u001b[0m\u001b[1;33m)\u001b[0m\u001b[1;33m\u001b[0m\u001b[1;33m\u001b[0m\u001b[0m\n",
      "\u001b[1;31mNameError\u001b[0m: name 'df' is not defined"
     ]
    }
   ],
   "source": [
    "plt.scatter(df['iteration'], df['progress'])\n",
    "plt.title('Progress of Iterations')\n",
    "plt.xlabel('Iteration')\n",
    "plt.ylabel('Progress')\n",
    "plt.show()"
   ]
  },
  {
   "cell_type": "code",
   "execution_count": 42,
   "id": "382d448f",
   "metadata": {},
   "outputs": [
    {
     "name": "stdout",
     "output_type": "stream",
     "text": [
      "4\n"
     ]
    }
   ],
   "source": [
    "count = (df1['episode_status'] == 'off_track').sum()\n",
    "print(count)"
   ]
  },
  {
   "cell_type": "code",
   "execution_count": 53,
   "id": "7584e4bd",
   "metadata": {},
   "outputs": [
    {
     "name": "stdout",
     "output_type": "stream",
     "text": [
      "0    22\n",
      "0    29\n",
      "0    33\n",
      "0    54\n",
      "Name: closest_waypoint, dtype: int64\n"
     ]
    }
   ],
   "source": [
    "waypoints_offtrack = df1.loc[df1['episode_status'] == 'off_track', 'closest_waypoint']\n",
    "print(waypoints_offtrack)"
   ]
  },
  {
   "cell_type": "code",
   "execution_count": 56,
   "id": "50597a90",
   "metadata": {
    "scrolled": true
   },
   "outputs": [
    {
     "name": "stdout",
     "output_type": "stream",
     "text": [
      "          X         Y\n",
      "0 -4.631691  3.172700\n",
      "0 -3.566905  0.958901\n",
      "0 -2.037481  0.531756\n",
      "0 -1.430526 -3.624890\n"
     ]
    }
   ],
   "source": [
    "values = df1.loc[df1['episode_status'] == 'off_track', ['steps', 'X']]\n",
    "values = values.rename(columns={'steps': 'X', 'X': 'Y'})\n",
    "print(values)"
   ]
  },
  {
   "cell_type": "code",
   "execution_count": 64,
   "id": "10c5cb99",
   "metadata": {},
   "outputs": [
    {
     "name": "stdout",
     "output_type": "stream",
     "text": [
      "714\n",
      "0    22\n",
      "0    29\n",
      "0    33\n",
      "0    54\n",
      "Name: closest_waypoint, dtype: int64\n"
     ]
    },
    {
     "data": {
      "image/png": "[encoded data removed]",
      "text/plain": [
       "<Figure size 432x288 with 1 Axes>"
      ]
     },
     "metadata": {
      "needs_background": "light"
     },
     "output_type": "display_data"
    }
   ],
   "source": [
    "waypoints1 = np.load('reinvent_base1.npy')\n",
    "print(waypoints1.size)\n",
    "\n",
    "fig, ax = plt.subplots()\n",
    "ax.scatter(waypoints1[:, 0], waypoints1[:, 1], s=5)\n",
    "\n",
    "values = df1.loc[df1['episode_status'] == 'off_track', 'closest_waypoint']\n",
    "print(values)\n",
    "\n",
    "for i in range(values.shape[0]):\n",
    "    waypoint_num = int(values.iloc[i])\n",
    "    x, y = waypoints1[waypoint_num, 0], waypoints1[waypoint_num, 1]\n",
    "    ax.scatter(x, y, s=50, marker='x', color='red')\n",
    "    ax.text(x, y, str(waypoint_num), fontsize=10, ha='center', va='center')\n",
    "\n",
    "#for i in range(waypoints1.shape[0]):\n",
    " #   ax.text(waypoints1[i, 0], waypoints1[i, 1], str(i), fontsize=10, ha='center', va='center')\n",
    "\n",
    "ax.set_xlabel('X')\n",
    "ax.set_ylabel('Y')\n",
    "ax.set_title('Waypoint crash location')\n",
    "plt.show()"
   ]
  },
  {
   "cell_type": "code",
   "execution_count": null,
   "id": "a9992d40",
   "metadata": {},
   "outputs": [],
   "source": []
  }
 ],
 "metadata": {
  "kernelspec": {
   "display_name": "Python 3",
   "language": "python",
   "name": "python3"
  },
  "language_info": {
   "codemirror_mode": {
    "name": "ipython",
    "version": 3
   },
   "file_extension": ".py",
   "mimetype": "text/x-python",
   "name": "python",
   "nbconvert_exporter": "python",
   "pygments_lexer": "ipython3",
   "version": "3.8.8"
  }
 },
 "nbformat": 4,
 "nbformat_minor": 5
}
